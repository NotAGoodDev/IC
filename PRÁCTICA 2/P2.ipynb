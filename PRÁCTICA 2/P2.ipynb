{
 "cells": [
  {
   "cell_type": "code",
   "execution_count": 1,
   "metadata": {},
   "outputs": [],
   "source": [
    "import pandas as pd\n",
    "import numpy as np"
   ]
  },
  {
   "cell_type": "code",
   "execution_count": 2,
   "metadata": {},
   "outputs": [],
   "source": [
    "headers = pd.read_csv('AtributosJuego.txt', header=None)"
   ]
  },
  {
   "cell_type": "code",
   "execution_count": 3,
   "metadata": {},
   "outputs": [],
   "source": [
    "game = pd.read_csv('Juego.txt', sep=',', header=None)"
   ]
  },
  {
   "cell_type": "code",
   "execution_count": 4,
   "metadata": {},
   "outputs": [],
   "source": [
    "# headers = np.array(headers)\n",
    "# game = np.array(game)"
   ]
  },
  {
   "cell_type": "code",
   "execution_count": 5,
   "metadata": {},
   "outputs": [],
   "source": [
    "## 'Hard to understand' because a lot of code, but efficient\n",
    "## because the costs ~ O(n * m) but only once\n",
    "\n",
    "def countValues_PosNeg(listaDeAtributos, listaDeEjemplos):\n",
    "    \"\"\"\n",
    "        Returns dictionaries c, pn\n",
    "        \n",
    "        c: Counts the times that attributes repeats\n",
    "        pn: Counts the number of positives and negatives of attributes\n",
    "    \"\"\"\n",
    "    \n",
    "    c = dict()                                      # Counter of total\n",
    "    pn = dict()                                     # Counter of pos/neg\n",
    "\n",
    "    for i in range(listaDeEjemplos.shape[1] - 1):   # Inverted axis\n",
    "        tipo = listaDeAtributos[i][0]               # c[A], c[B]...\n",
    "        lastValue = listaDeEjemplos.shape[1] - 1    # Last column\n",
    "        \n",
    "        for j in range(listaDeEjemplos.shape[0]):   # Inverted axis\n",
    "            value = listaDeEjemplos[i][j]           # Table's value\n",
    "            result = listaDeEjemplos[lastValue][j]  # Positive or Negative\n",
    "            \n",
    "            \n",
    "            if tipo in c:                           # Column's name\n",
    "                if value in c[tipo]:                # Table's value exists\n",
    "                    c[tipo][value] += 1             # Add 1 to counter\n",
    "                else :\n",
    "                    c[tipo][value] = 1              # Init value\n",
    "                    \n",
    "            else :\n",
    "                c[tipo] = dict()\n",
    "                c[tipo][value] = 1                  # Init value\n",
    "                \n",
    "                \n",
    "                \n",
    "            if tipo in pn:                          # Column's name\n",
    "                if value in pn[tipo]:               # Table's value exists\n",
    "                    if result in pn[tipo][value] :  # pn[A][a1][+] exists?\n",
    "                        pn[tipo][value][result] += 1\n",
    "                    else :\n",
    "                        pn[tipo][value][result] = 1\n",
    "                        \n",
    "                else :                              # Init value\n",
    "                    pn[tipo][value] = dict()\n",
    "                    pn[tipo][value][result] = 1\n",
    "                    \n",
    "            else:                                   # Init value\n",
    "                    pn[tipo] = dict()               \n",
    "                    pn[tipo][value] = dict()\n",
    "                    pn[tipo][value][result] = 1\n",
    "                \n",
    "            \n",
    "    return (c, pn)           "
   ]
  },
  {
   "cell_type": "code",
   "execution_count": 6,
   "metadata": {},
   "outputs": [],
   "source": [
    "def getPN(dic):\n",
    "    \n",
    "    pos = 0\n",
    "    neg = 0\n",
    "    \n",
    "    for v in dic.keys():\n",
    "        if v == \"Si\" or v == \"si\" or v == \"S\" or v == \"s\" or v == \"+\" or v == \"positivo\" or v == \"positive\":\n",
    "            pos = dic[v]\n",
    "        else :\n",
    "            neg = dic[v]\n",
    "            \n",
    "    return (pos, neg)"
   ]
  },
  {
   "cell_type": "code",
   "execution_count": 7,
   "metadata": {},
   "outputs": [],
   "source": [
    "def merito(p, n):\n",
    "    term1 = 0\n",
    "    term2 = 0\n",
    "    \n",
    "    if p == 0:\n",
    "        term1 = 0\n",
    "    else:\n",
    "        term1 = -p * np.log2(p)\n",
    "        \n",
    "    if n == 0:\n",
    "        term2 = 0\n",
    "    else:\n",
    "        term2 = n * np.log2(n)\n",
    "        \n",
    "        \n",
    "    return term1 - term2 "
   ]
  },
  {
   "cell_type": "code",
   "execution_count": 8,
   "metadata": {},
   "outputs": [],
   "source": [
    "def meritoTotal(c, pn, total):\n",
    "    m = dict()   # Diccionario de merito\n",
    "    \n",
    "    for tipo in c.keys():\n",
    "        m[tipo] = 0\n",
    "\n",
    "        for value in c[tipo].keys():\n",
    "            p, n = getPN(pn[tipo][value])\n",
    "            a = p + n\n",
    "            infor = merito(p/a, n/a)\n",
    "            m[tipo] += ((a/total) * infor)\n",
    "        \n",
    "    return m\n",
    "            "
   ]
  },
  {
   "cell_type": "code",
   "execution_count": 214,
   "metadata": {},
   "outputs": [],
   "source": [
    "def removeValues(lista, value, position):\n",
    "    \"\"\"\n",
    "    This function removes the values that are innecesary (column and rows\n",
    "    that doesnt have the value)\n",
    "    \n",
    "    Returns the list\n",
    "    \"\"\"\n",
    "    aux = []\n",
    "    lista = lista.T\n",
    "    \n",
    "    for i in range(lista.shape[1]):\n",
    "        \n",
    "        if(value == lista[i][position]):\n",
    "            temp = []\n",
    "            \n",
    "            for x in range(lista.shape[0]):\n",
    "                if(x != position):\n",
    "                    temp.append(lista[i][x])   \n",
    "            \n",
    "            aux.append(temp)\n",
    "            \n",
    "            \n",
    "    return np.array(aux)\n"
   ]
  },
  {
   "cell_type": "code",
   "execution_count": 242,
   "metadata": {},
   "outputs": [],
   "source": [
    "def divideNodes(listaDeAtributos, listaDeEjemplos, minimo):\n",
    "    \"\"\"\n",
    "    This function divides the main list into small pieces without\n",
    "    the wished column and the examples that doesnt have the value, \n",
    "    for example:\n",
    "        a1,b3,c2,+\n",
    "        a2,b1,c1,+\n",
    "        a1,b2,c1,-\n",
    "        a1,b1,c3,+\n",
    "        a2,b3,c3,-\n",
    "        a1,b1,c1,-\n",
    "        a1,b2,c1,-\n",
    "        a2,b3,c2,+\n",
    "\n",
    "\n",
    "        -> c1        \n",
    "            a2,b1,+\n",
    "            a1,b2,-\n",
    "            a1,b1,-\n",
    "            a1,b2,-\n",
    "            \n",
    "        -> c2\n",
    "            a1,b3,+\n",
    "            a2,b3,+\n",
    "            \n",
    "        -> c3\n",
    "            a1,b1,+\n",
    "            a2,b3,-\n",
    "    \n",
    "    Returns the divided lists.\n",
    "    \"\"\"\n",
    "    \n",
    "    pos = 0\n",
    "    for i in range(listaDeAtributos.shape[1] - 1):\n",
    "        if listaDeAtributos[i][0] == minimo:\n",
    "            pos = i\n",
    "        \n",
    "    r = []\n",
    "    \n",
    "    visited = dict()\n",
    "    \n",
    "    for v in listaDeEjemplos[pos]:\n",
    "        if v not in visited:  # Didnt visited -> To dont repeat values\n",
    "            visited[v] = True\n",
    "            r.append(removeValues(listaDeEjemplos, v, pos))\n",
    "            \n",
    "    return r"
   ]
  },
  {
   "cell_type": "code",
   "execution_count": 243,
   "metadata": {},
   "outputs": [
    {
     "name": "stdout",
     "output_type": "stream",
     "text": [
      "[array([['a1', 'b3', '+'],\n",
      "       ['a2', 'b3', '+']], dtype='<U2'), array([['a2', 'b1', '+'],\n",
      "       ['a1', 'b2', '-'],\n",
      "       ['a1', 'b1', '-'],\n",
      "       ['a1', 'b2', '-']], dtype='<U2'), array([['a1', 'b1', '+'],\n",
      "       ['a2', 'b3', '-']], dtype='<U2')]\n"
     ]
    }
   ],
   "source": [
    "def id3(listaDeAtributos, listaDeEjemplos):\n",
    "    \n",
    "    c, pn = countValues_PosNeg(listaDeAtributos, listaDeEjemplos)\n",
    "    total = listaDeEjemplos.shape[0]\n",
    "    m = meritoTotal(c, pn, total)\n",
    "    minimo = min(m.items(), key=lambda x: x[1])   # Get the minimum\n",
    "    \n",
    "    r = divideNodes(listaDeAtributos, listaDeEjemplos, minimo[0])\n",
    "    \n",
    "    #######################################################\n",
    "    ############### Ahora debemos iterar... ###############\n",
    "    #######################################################\n",
    "    \n",
    "    \n",
    "id3(headers, game)"
   ]
  }
 ],
 "metadata": {
  "kernelspec": {
   "display_name": "Python 3",
   "language": "python",
   "name": "python3"
  },
  "language_info": {
   "codemirror_mode": {
    "name": "ipython",
    "version": 3
   },
   "file_extension": ".py",
   "mimetype": "text/x-python",
   "name": "python",
   "nbconvert_exporter": "python",
   "pygments_lexer": "ipython3",
   "version": "3.8.5"
  }
 },
 "nbformat": 4,
 "nbformat_minor": 2
}
