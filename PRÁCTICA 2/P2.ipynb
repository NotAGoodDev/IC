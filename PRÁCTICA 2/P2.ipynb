{
 "cells": [
  {
   "cell_type": "code",
   "execution_count": 1,
   "metadata": {},
   "outputs": [],
   "source": [
    "import pandas as pd\n",
    "import numpy as np"
   ]
  },
  {
   "cell_type": "code",
   "execution_count": 2,
   "metadata": {},
   "outputs": [],
   "source": [
    "headers = pd.read_csv('AtributosJuego.txt', header=None)"
   ]
  },
  {
   "cell_type": "code",
   "execution_count": 3,
   "metadata": {},
   "outputs": [],
   "source": [
    "game = pd.read_csv('Juego.txt', sep=',', header=None)"
   ]
  },
  {
   "cell_type": "code",
   "execution_count": null,
   "metadata": {},
   "outputs": [],
   "source": []
  },
  {
   "cell_type": "code",
   "execution_count": 4,
   "metadata": {},
   "outputs": [],
   "source": [
    "# headers = np.array(headers)\n",
    "# game = np.array(game)"
   ]
  },
  {
   "cell_type": "code",
   "execution_count": 20,
   "metadata": {},
   "outputs": [],
   "source": [
    "def countValues(listaDeAtributos, listaDeEjemplos):\n",
    "    c = dict()\n",
    "\n",
    "    for i in range(listaDeEjemplos.shape[1]):\n",
    "        tipo = listaDeAtributos[i][0]\n",
    "        \n",
    "        for j in range(listaDeEjemplos.shape[0]):\n",
    "            valor = listaDeEjemplos[i][j]   # Valores de la tabla\n",
    "            \n",
    "            if tipo in c:\n",
    "                if valor in c[tipo]:\n",
    "                    c[tipo][valor] += 1\n",
    "                else :\n",
    "                    c[tipo][valor] = 1\n",
    "            else :\n",
    "                c[tipo] = dict()\n",
    "                \n",
    "            \n",
    "            \n",
    "    return c\n",
    "                          "
   ]
  },
  {
   "cell_type": "code",
   "execution_count": 22,
   "metadata": {},
   "outputs": [
    {
     "name": "stdout",
     "output_type": "stream",
     "text": [
      "4\n"
     ]
    }
   ],
   "source": [
    "def id3(listaDeAtributos, listaDeEjemplos):\n",
    "    counters = countValues(listaDeAtributos, listaDeEjemplos)\n",
    "    # print(counters['A']['a1']) \n",
    "    \n",
    "id3(headers, game)"
   ]
  }
 ],
 "metadata": {
  "kernelspec": {
   "display_name": "Python 3",
   "language": "python",
   "name": "python3"
  },
  "language_info": {
   "codemirror_mode": {
    "name": "ipython",
    "version": 3
   },
   "file_extension": ".py",
   "mimetype": "text/x-python",
   "name": "python",
   "nbconvert_exporter": "python",
   "pygments_lexer": "ipython3",
   "version": "3.7.3"
  }
 },
 "nbformat": 4,
 "nbformat_minor": 2
}
