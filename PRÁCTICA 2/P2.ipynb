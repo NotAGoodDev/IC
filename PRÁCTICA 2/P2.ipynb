{
 "cells": [
  {
   "cell_type": "code",
   "execution_count": 1,
   "metadata": {},
   "outputs": [],
   "source": [
    "import pandas as pd\n",
    "import numpy as np"
   ]
  },
  {
   "cell_type": "code",
   "execution_count": 2,
   "metadata": {},
   "outputs": [],
   "source": [
    "headers = pd.read_csv('AtributosJuego.txt', header=None)"
   ]
  },
  {
   "cell_type": "code",
   "execution_count": 3,
   "metadata": {},
   "outputs": [],
   "source": [
    "game = pd.read_csv('Juego.txt', sep=',', header=None)"
   ]
  },
  {
   "cell_type": "code",
   "execution_count": 4,
   "metadata": {},
   "outputs": [],
   "source": [
    "# headers = np.array(headers)\n",
    "# game = np.array(game)"
   ]
  },
  {
   "cell_type": "code",
   "execution_count": 5,
   "metadata": {},
   "outputs": [],
   "source": [
    "## 'Hard to understand' because a lot of code, but efficient\n",
    "## because the costs ~ O(n * m) but only once\n",
    "\n",
    "def countValues_PosNeg(listaDeAtributos, listaDeEjemplos):\n",
    "    \"\"\"\n",
    "        Returns dictionaries c, pn\n",
    "        \n",
    "        c: Counts the times that attributes repeats\n",
    "        pn: Counts the number of positives and negatives of attributes\n",
    "    \"\"\"\n",
    "    \n",
    "    c = dict()                                      # Counter of total\n",
    "    pn = dict()                                     # Counter of pos/neg\n",
    "\n",
    "    for i in range(listaDeEjemplos.shape[1] - 1):   # Inverted axis\n",
    "        tipo = listaDeAtributos[i][0]               # c[A], c[B]...\n",
    "        lastValue = listaDeEjemplos.shape[1] - 1    # Last column\n",
    "        \n",
    "        for j in range(listaDeEjemplos.shape[0]):   # Inverted axis\n",
    "            value = listaDeEjemplos[i][j]           # Table's value\n",
    "            result = listaDeEjemplos[lastValue][j]  # Positive or Negative\n",
    "            \n",
    "            \n",
    "            if tipo in c:                           # Column's name\n",
    "                if value in c[tipo]:                # Table's value exists\n",
    "                    c[tipo][value] += 1             # Add 1 to counter\n",
    "                else :\n",
    "                    c[tipo][value] = 1              # Init value\n",
    "                    \n",
    "            else :\n",
    "                c[tipo] = dict()\n",
    "                c[tipo][value] = 1                  # Init value\n",
    "                \n",
    "                \n",
    "                \n",
    "            if tipo in pn:                          # Column's name\n",
    "                if value in pn[tipo]:               # Table's value exists\n",
    "                    if result in pn[tipo][value] :  # pn[A][a1][+] exists?\n",
    "                        pn[tipo][value][result] += 1\n",
    "                    else :\n",
    "                        pn[tipo][value][result] = 1\n",
    "                        \n",
    "                else :                              # Init value\n",
    "                    pn[tipo][value] = dict()\n",
    "                    pn[tipo][value][result] = 1\n",
    "                    \n",
    "            else:                                   # Init value\n",
    "                    pn[tipo] = dict()               \n",
    "                    pn[tipo][value] = dict()\n",
    "                    pn[tipo][value][result] = 1\n",
    "                \n",
    "            \n",
    "    return (c, pn)           "
   ]
  },
  {
   "cell_type": "code",
   "execution_count": 148,
   "metadata": {},
   "outputs": [],
   "source": [
    "def getPN(dic):\n",
    "    \n",
    "    pos = 0\n",
    "    neg = 0\n",
    "    \n",
    "    for v in dic.keys():\n",
    "        if v == \"Si\" or v == \"si\" or v == \"S\" or v == \"s\" or v == \"+\" or v == \"positivo\" or v == \"positive\":\n",
    "            pos = dic[v]\n",
    "        else :\n",
    "            neg = dic[v]\n",
    "            \n",
    "    return (pos, neg)"
   ]
  },
  {
   "cell_type": "code",
   "execution_count": 198,
   "metadata": {},
   "outputs": [],
   "source": [
    "def merito(p, n):\n",
    "    term1 = 0\n",
    "    term2 = 0\n",
    "    \n",
    "    if p == 0:\n",
    "        term1 = 0\n",
    "    else:\n",
    "        term1 = -p * np.log2(p)\n",
    "        \n",
    "    if n == 0:\n",
    "        term2 = 0\n",
    "    else:\n",
    "        term2 = n * np.log2(n)\n",
    "        \n",
    "        \n",
    "    return term1 - term2 "
   ]
  },
  {
   "cell_type": "code",
   "execution_count": 199,
   "metadata": {},
   "outputs": [],
   "source": [
    "def meritoTotal(c, pn, total):\n",
    "    m = dict()   # Diccionario de merito\n",
    "    \n",
    "    for tipo in c.keys():\n",
    "        m[tipo] = 0\n",
    "\n",
    "        for value in c[tipo].keys():\n",
    "            p, n = getPN(pn[tipo][value])\n",
    "            a = p + n\n",
    "            infor = merito(p/a, n/a)\n",
    "            m[tipo] += ((a/total) * infor)\n",
    "        \n",
    "    return m\n",
    "            "
   ]
  },
  {
   "cell_type": "code",
   "execution_count": 207,
   "metadata": {},
   "outputs": [
    {
     "name": "stdout",
     "output_type": "stream",
     "text": [
      "{'A': 0.9512050593046015, 'B': 0.6887218755408672, 'C': 0.6556390622295665}\n",
      "('C', 0.6556390622295665)\n"
     ]
    }
   ],
   "source": [
    "def id3(listaDeAtributos, listaDeEjemplos):\n",
    "    c, pn = countValues_PosNeg(listaDeAtributos, listaDeEjemplos)\n",
    "    total = listaDeEjemplos.shape[0]\n",
    "    m = meritoTotal(c, pn, total)\n",
    "    minimo = min(m.items(), key=lambda x: x[1])   # Obtener el mínimo\n",
    "    \n",
    "    #######################################################\n",
    "    ######### Ahora debemos escoger el menor ... ##########\n",
    "    #######################################################\n",
    "    \n",
    "    print(m)\n",
    "    print(minimo)\n",
    "    \n",
    "id3(headers, game)"
   ]
  }
 ],
 "metadata": {
  "kernelspec": {
   "display_name": "Python 3",
   "language": "python",
   "name": "python3"
  },
  "language_info": {
   "codemirror_mode": {
    "name": "ipython",
    "version": 3
   },
   "file_extension": ".py",
   "mimetype": "text/x-python",
   "name": "python",
   "nbconvert_exporter": "python",
   "pygments_lexer": "ipython3",
   "version": "3.8.5"
  }
 },
 "nbformat": 4,
 "nbformat_minor": 2
}
