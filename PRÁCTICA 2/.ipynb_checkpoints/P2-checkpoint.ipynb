{
 "cells": [
  {
   "cell_type": "code",
   "execution_count": 1,
   "metadata": {},
   "outputs": [],
   "source": [
    "import pandas as pd\n",
    "import numpy as np"
   ]
  },
  {
   "cell_type": "code",
   "execution_count": 2,
   "metadata": {},
   "outputs": [],
   "source": [
    "headers = pd.read_csv('AtributosJuego.txt', header=None)"
   ]
  },
  {
   "cell_type": "code",
   "execution_count": 3,
   "metadata": {},
   "outputs": [],
   "source": [
    "game = pd.read_csv('Juego.txt', sep=',', header=None)"
   ]
  },
  {
   "cell_type": "code",
   "execution_count": null,
   "metadata": {},
   "outputs": [],
   "source": []
  },
  {
   "cell_type": "code",
   "execution_count": 4,
   "metadata": {},
   "outputs": [],
   "source": [
    "# headers = np.array(headers)\n",
    "# game = np.array(game)"
   ]
  },
  {
   "cell_type": "code",
   "execution_count": 5,
   "metadata": {},
   "outputs": [],
   "source": [
    "## 'Hard to understand' because a lot of code, but efficient\n",
    "## because the costs ~ O(n * m) but only once\n",
    "\n",
    "def countValues_PosNeg(listaDeAtributos, listaDeEjemplos):\n",
    "    \"\"\"\n",
    "        Returns dictionaries c, pn\n",
    "        \n",
    "        c: Counts the times that attributes repeats\n",
    "        pn: Counts the number of positives and negatives of attributes\n",
    "    \"\"\"\n",
    "    \n",
    "    c = dict()                                      # Counter of total\n",
    "    pn = dict()                                     # Counter of pos/neg\n",
    "\n",
    "    for i in range(listaDeEjemplos.shape[1] - 1):   # Inverted axis\n",
    "        tipo = listaDeAtributos[i][0]               # c[A], c[B]...\n",
    "        lastValue = listaDeEjemplos.shape[1] - 1    # Last column\n",
    "        \n",
    "        for j in range(listaDeEjemplos.shape[0]):   # Inverted axis\n",
    "            value = listaDeEjemplos[i][j]           # Table's value\n",
    "            result = listaDeEjemplos[lastValue][j]  # Positive or Negative\n",
    "            \n",
    "            \n",
    "            if tipo in c:                           # Column's name\n",
    "                if value in c[tipo]:                # Table's value exists\n",
    "                    c[tipo][value] += 1             # Add 1 to counter\n",
    "                else :\n",
    "                    c[tipo][value] = 1              # Init value\n",
    "                    \n",
    "            else :\n",
    "                c[tipo] = dict()\n",
    "                c[tipo][value] = 1                  # Init value\n",
    "                \n",
    "                \n",
    "                \n",
    "            if tipo in pn:                          # Column's name\n",
    "                if value in pn[tipo]:               # Table's value exists\n",
    "                    if result in pn[tipo][value] :  # pn[A][a1][+] exists?\n",
    "                        pn[tipo][value][result] += 1\n",
    "                    else :\n",
    "                        pn[tipo][value][result] = 1\n",
    "                        \n",
    "                else :                              # Init value\n",
    "                    pn[tipo][value] = dict()\n",
    "                    pn[tipo][value][result] = 1\n",
    "                    \n",
    "            else:                                   # Init value\n",
    "                    pn[tipo] = dict()               \n",
    "                    pn[tipo][value] = dict()\n",
    "                    pn[tipo][value][result] = 1\n",
    "                \n",
    "            \n",
    "    return (c, pn)           "
   ]
  },
  {
   "cell_type": "code",
   "execution_count": 6,
   "metadata": {},
   "outputs": [],
   "source": [
    "def id3(listaDeAtributos, listaDeEjemplos):\n",
    "    c, pn = countValues_PosNeg(listaDeAtributos, listaDeEjemplos)\n",
    "    \n",
    "    \n",
    "    \n",
    "id3(headers, game)"
   ]
  }
 ],
 "metadata": {
  "kernelspec": {
   "display_name": "Python 3",
   "language": "python",
   "name": "python3"
  },
  "language_info": {
   "codemirror_mode": {
    "name": "ipython",
    "version": 3
   },
   "file_extension": ".py",
   "mimetype": "text/x-python",
   "name": "python",
   "nbconvert_exporter": "python",
   "pygments_lexer": "ipython3",
   "version": "3.8.5"
  }
 },
 "nbformat": 4,
 "nbformat_minor": 2
}
