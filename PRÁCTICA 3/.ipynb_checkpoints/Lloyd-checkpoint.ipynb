{
 "cells": [
  {
   "cell_type": "code",
   "execution_count": 20,
   "id": "several-loading",
   "metadata": {},
   "outputs": [],
   "source": [
    "import numpy as np\n",
    "import pandas as pd\n",
    "import os"
   ]
  },
  {
   "cell_type": "code",
   "execution_count": 21,
   "id": "prepared-drive",
   "metadata": {},
   "outputs": [],
   "source": [
    "# X = np.array([\n",
    "#     [1, 1],\n",
    "#     [1, 3],\n",
    "#     [1, 5],\n",
    "#     [1, 2],\n",
    "#     [2, 3],\n",
    "#     [2, 3],\n",
    "#     [6, 4],\n",
    "#     [6, 1],\n",
    "#     [7, 3],\n",
    "#     [7, 5],\n",
    "# ])\n",
    "\n",
    "# V = np.array([\n",
    "#     [1.0, 4.0],\n",
    "#     [7.0, 2.0],\n",
    "# ])"
   ]
  },
  {
   "cell_type": "code",
   "execution_count": 22,
   "id": "upper-roulette",
   "metadata": {},
   "outputs": [],
   "source": [
    "def calcularDistancias(x, V):      \n",
    "    posOpt = None\n",
    "    distOpt = np.inf\n",
    "\n",
    "    for j in range(V.shape[0]):\n",
    "        dist = np.sum(np.square(x - V[j]))\n",
    "        if (distOpt > dist):\n",
    "            distOpt = dist\n",
    "            posOpt = j\n",
    "\n",
    "    return posOpt"
   ]
  },
  {
   "cell_type": "code",
   "execution_count": 23,
   "id": "academic-omaha",
   "metadata": {},
   "outputs": [],
   "source": [
    "def distEuclidea(A, B):\n",
    "    return np.sqrt(np.sum(np.square(A - B)))"
   ]
  },
  {
   "cell_type": "code",
   "execution_count": 24,
   "id": "novel-circuit",
   "metadata": {},
   "outputs": [],
   "source": [
    "def testLloyd(V, vName):\n",
    "    print(\"########## TEST DE LLOYD ##########\")\n",
    "    for file in os.listdir('test'):\n",
    "        df = pd.read_csv('test/' + file, header=None)\n",
    "        pruebaX = np.array(df.iloc[:, :-1])\n",
    "        pruebaY = np.array(df.iloc[:, -1])\n",
    "        distancias = np.sum(np.square(pruebaX - V), axis=1)\n",
    "        posMin = np.argmin(np.array(distancias))\n",
    "\n",
    "        print(\"El archivo {} pertenece a la clase \\n{}\\n\"\n",
    "             .format(file, vName[posMin]))\n",
    "        "
   ]
  },
  {
   "cell_type": "code",
   "execution_count": 45,
   "id": "innocent-divide",
   "metadata": {},
   "outputs": [],
   "source": [
    "def lloyd(X, V, gamma, kMax, epsilon):\n",
    "    print(\"\\n########## ENTRENAMIENTO DE LLOYD ##########\\n\")\n",
    "\n",
    "    for it in range(kMax):\n",
    "        vNuevo = V.copy()\n",
    "        \n",
    "        for i in range(X.shape[0]):\n",
    "            pos = calcularDistancias(X[i], V)\n",
    "            vNuevo[pos] = vNuevo[pos] + gamma * (X[i] - vNuevo[pos])\n",
    "\n",
    "        seguir = False\n",
    "        for i in range(V.shape[0]):\n",
    "            if(distEuclidea(V[i], vNuevo[i]) >= epsilon):\n",
    "                seguir = True\n",
    "\n",
    "        if(seguir):\n",
    "            print(\"ITERACIÓN {}.\\nAntiguo:\\n{}\\n\\nNuevo\\n{}\\n\"\n",
    "                 .format(it + 1, V, vNuevo))\n",
    "            V = vNuevo\n",
    "            \n",
    "        else:\n",
    "            break\n",
    "\n",
    "            \n",
    "        print(\"-\"*30)\n",
    "    return V"
   ]
  },
  {
   "cell_type": "code",
   "execution_count": null,
   "id": "parallel-clark",
   "metadata": {
    "scrolled": true
   },
   "outputs": [],
   "source": []
  },
  {
   "cell_type": "code",
   "execution_count": null,
   "id": "amber-reduction",
   "metadata": {},
   "outputs": [],
   "source": []
  }
 ],
 "metadata": {
  "kernelspec": {
   "display_name": "Python 3",
   "language": "python",
   "name": "python3"
  },
  "language_info": {
   "codemirror_mode": {
    "name": "ipython",
    "version": 3
   },
   "file_extension": ".py",
   "mimetype": "text/x-python",
   "name": "python",
   "nbconvert_exporter": "python",
   "pygments_lexer": "ipython3",
   "version": "3.8.5"
  }
 },
 "nbformat": 4,
 "nbformat_minor": 5
}
