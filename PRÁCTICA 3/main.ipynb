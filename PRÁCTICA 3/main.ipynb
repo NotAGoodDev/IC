{
 "cells": [
  {
   "cell_type": "code",
   "execution_count": 1,
   "id": "proud-choir",
   "metadata": {},
   "outputs": [],
   "source": [
    "from Kmedias import *\n",
    "import numpy as np"
   ]
  },
  {
   "cell_type": "code",
   "execution_count": 2,
   "id": "answering-strike",
   "metadata": {},
   "outputs": [],
   "source": [
    "df = pd.read_csv('Iris2Clases.txt', header=None)\n",
    "X = np.array(df.iloc[:, :-1])\n",
    "Y = np.array(df.iloc[:, -1])\n",
    "V = np.array([[4.5, 3.0, 4.0, 0.0], [6.8, 3.4, 4.6, 0.7]])\n",
    "vName = ['Iris-setosa', 'Iris-versicolor']\n",
    "\n",
    "# X = np.array([[1,1,1], [2,2,1]])\n",
    "# V = np.array([[3,1,2], [1,2,1], [4,5,4]])\n",
    "\n",
    "# X = np.array([\n",
    "#     [1, 1],\n",
    "#     [1, 3],\n",
    "#     [1, 5],\n",
    "#     [2, 2],\n",
    "#     [2, 3],\n",
    "#     [6, 3],\n",
    "#     [6, 4],\n",
    "#     [7, 1],\n",
    "#     [7, 3],\n",
    "#     [7, 5] \n",
    "# ])\n",
    "\n",
    "# V = np.array([[6.7, 3.43], [2.39, 2.94]])\n",
    "\n",
    "X = np.array([\n",
    "    [3, 5],\n",
    "    [5, 5],\n",
    "    [4, 5],\n",
    "    [3, 1],\n",
    "    [1, 3],\n",
    "    [2, 2],\n",
    "    [1, 1],\n",
    "    [2, 3],\n",
    "    [0, 2],\n",
    "])\n",
    "\n",
    "Y = np.array([\n",
    "    'C1',\n",
    "    'C1',\n",
    "    'C1',\n",
    "    'C2',\n",
    "    'C2',\n",
    "    'C2',\n",
    "    'C3',\n",
    "    'C3',\n",
    "    'C3',\n",
    "    \n",
    "])\n",
    "\n",
    "vName = ['C1', 'C2', 'C3']\n",
    "\n",
    "\n",
    "b = 2\n",
    "epsilon = 0.02"
   ]
  },
  {
   "cell_type": "code",
   "execution_count": 3,
   "id": "framed-onion",
   "metadata": {},
   "outputs": [
    {
     "ename": "ValueError",
     "evalue": "operands could not be broadcast together with shapes (4,) (2,) ",
     "output_type": "error",
     "traceback": [
      "\u001b[1;31m---------------------------------------------------------------------------\u001b[0m",
      "\u001b[1;31mValueError\u001b[0m                                Traceback (most recent call last)",
      "\u001b[1;32m<ipython-input-3-a4ec6e070a36>\u001b[0m in \u001b[0;36m<module>\u001b[1;34m\u001b[0m\n\u001b[1;32m----> 1\u001b[1;33m \u001b[0mV_KMedias\u001b[0m \u001b[1;33m=\u001b[0m \u001b[0mtrainKMedias\u001b[0m\u001b[1;33m(\u001b[0m\u001b[0mX\u001b[0m\u001b[1;33m,\u001b[0m \u001b[0mV\u001b[0m\u001b[1;33m,\u001b[0m \u001b[0mb\u001b[0m\u001b[1;33m,\u001b[0m \u001b[0mepsilon\u001b[0m\u001b[1;33m)\u001b[0m\u001b[1;33m\u001b[0m\u001b[1;33m\u001b[0m\u001b[0m\n\u001b[0m\u001b[0;32m      2\u001b[0m \u001b[0mtestKMedias\u001b[0m\u001b[1;33m(\u001b[0m\u001b[0mV_KMedias\u001b[0m\u001b[1;33m,\u001b[0m \u001b[0mvName\u001b[0m\u001b[1;33m)\u001b[0m\u001b[1;33m\u001b[0m\u001b[1;33m\u001b[0m\u001b[0m\n",
      "\u001b[1;32mE:\\MegaSYNC\\Apuntes\\4º\\Segundo Cuatrimestre\\IC - Ingeniería del Conocimiento\\Prácticas\\PRÁCTICA 3\\Kmedias.py\u001b[0m in \u001b[0;36mtrainKMedias\u001b[1;34m(X, V, b, epsilon)\u001b[0m\n\u001b[0;32m    109\u001b[0m     \u001b[0mi\u001b[0m \u001b[1;33m=\u001b[0m \u001b[1;36m0\u001b[0m\u001b[1;33m\u001b[0m\u001b[1;33m\u001b[0m\u001b[0m\n\u001b[0;32m    110\u001b[0m     \u001b[1;32mwhile\u001b[0m \u001b[1;32mTrue\u001b[0m\u001b[1;33m:\u001b[0m\u001b[1;33m\u001b[0m\u001b[1;33m\u001b[0m\u001b[0m\n\u001b[1;32m--> 111\u001b[1;33m         \u001b[0mP\u001b[0m \u001b[1;33m=\u001b[0m \u001b[0mcalcularP\u001b[0m\u001b[1;33m(\u001b[0m\u001b[0mX\u001b[0m\u001b[1;33m,\u001b[0m \u001b[0mV\u001b[0m\u001b[1;33m,\u001b[0m \u001b[0mb\u001b[0m\u001b[1;33m)\u001b[0m\u001b[1;33m\u001b[0m\u001b[1;33m\u001b[0m\u001b[0m\n\u001b[0m\u001b[0;32m    112\u001b[0m         \u001b[0mvNuevo\u001b[0m \u001b[1;33m=\u001b[0m \u001b[0mrecalcularCentros\u001b[0m\u001b[1;33m(\u001b[0m\u001b[0mX\u001b[0m\u001b[1;33m,\u001b[0m \u001b[0mP\u001b[0m\u001b[1;33m)\u001b[0m\u001b[1;33m\u001b[0m\u001b[1;33m\u001b[0m\u001b[0m\n\u001b[0;32m    113\u001b[0m         \u001b[1;32mif\u001b[0m \u001b[0mseguirActualizando\u001b[0m\u001b[1;33m(\u001b[0m\u001b[0mV\u001b[0m\u001b[1;33m,\u001b[0m \u001b[0mvNuevo\u001b[0m\u001b[1;33m,\u001b[0m \u001b[0mepsilon\u001b[0m\u001b[1;33m)\u001b[0m\u001b[1;33m:\u001b[0m\u001b[1;33m\u001b[0m\u001b[1;33m\u001b[0m\u001b[0m\n",
      "\u001b[1;32mE:\\MegaSYNC\\Apuntes\\4º\\Segundo Cuatrimestre\\IC - Ingeniería del Conocimiento\\Prácticas\\PRÁCTICA 3\\Kmedias.py\u001b[0m in \u001b[0;36mcalcularP\u001b[1;34m(X, V, b)\u001b[0m\n\u001b[0;32m     48\u001b[0m     \u001b[1;32mfor\u001b[0m \u001b[0mj\u001b[0m \u001b[1;32min\u001b[0m \u001b[0mrange\u001b[0m\u001b[1;33m(\u001b[0m\u001b[0mX\u001b[0m\u001b[1;33m.\u001b[0m\u001b[0mshape\u001b[0m\u001b[1;33m[\u001b[0m\u001b[1;36m0\u001b[0m\u001b[1;33m]\u001b[0m\u001b[1;33m)\u001b[0m\u001b[1;33m:\u001b[0m\u001b[1;33m\u001b[0m\u001b[1;33m\u001b[0m\u001b[0m\n\u001b[0;32m     49\u001b[0m         \u001b[1;32mfor\u001b[0m \u001b[0mi\u001b[0m \u001b[1;32min\u001b[0m \u001b[0mrange\u001b[0m\u001b[1;33m(\u001b[0m\u001b[0mV\u001b[0m\u001b[1;33m.\u001b[0m\u001b[0mshape\u001b[0m\u001b[1;33m[\u001b[0m\u001b[1;36m0\u001b[0m\u001b[1;33m]\u001b[0m\u001b[1;33m)\u001b[0m\u001b[1;33m:\u001b[0m\u001b[1;33m\u001b[0m\u001b[1;33m\u001b[0m\u001b[0m\n\u001b[1;32m---> 50\u001b[1;33m             \u001b[0mdividendo\u001b[0m \u001b[1;33m=\u001b[0m \u001b[0mformula\u001b[0m\u001b[1;33m(\u001b[0m\u001b[0mdist\u001b[0m\u001b[1;33m(\u001b[0m\u001b[0mV\u001b[0m\u001b[1;33m[\u001b[0m\u001b[0mi\u001b[0m\u001b[1;33m]\u001b[0m\u001b[1;33m,\u001b[0m \u001b[0mX\u001b[0m\u001b[1;33m[\u001b[0m\u001b[0mj\u001b[0m\u001b[1;33m]\u001b[0m\u001b[1;33m)\u001b[0m\u001b[1;33m,\u001b[0m \u001b[0mb\u001b[0m\u001b[1;33m)\u001b[0m\u001b[1;33m\u001b[0m\u001b[1;33m\u001b[0m\u001b[0m\n\u001b[0m\u001b[0;32m     51\u001b[0m             \u001b[0mdivisor\u001b[0m \u001b[1;33m=\u001b[0m \u001b[0mcalcularDivisor\u001b[0m\u001b[1;33m(\u001b[0m\u001b[0mX\u001b[0m\u001b[1;33m[\u001b[0m\u001b[0mj\u001b[0m\u001b[1;33m]\u001b[0m\u001b[1;33m,\u001b[0m \u001b[0mV\u001b[0m\u001b[1;33m)\u001b[0m\u001b[1;33m\u001b[0m\u001b[1;33m\u001b[0m\u001b[0m\n\u001b[0;32m     52\u001b[0m \u001b[1;33m\u001b[0m\u001b[0m\n",
      "\u001b[1;32mE:\\MegaSYNC\\Apuntes\\4º\\Segundo Cuatrimestre\\IC - Ingeniería del Conocimiento\\Prácticas\\PRÁCTICA 3\\Kmedias.py\u001b[0m in \u001b[0;36mdist\u001b[1;34m(x, v)\u001b[0m\n\u001b[0;32m     26\u001b[0m \u001b[1;32mdef\u001b[0m \u001b[0mdist\u001b[0m\u001b[1;33m(\u001b[0m\u001b[0mx\u001b[0m\u001b[1;33m,\u001b[0m \u001b[0mv\u001b[0m\u001b[1;33m)\u001b[0m\u001b[1;33m:\u001b[0m\u001b[1;33m\u001b[0m\u001b[1;33m\u001b[0m\u001b[0m\n\u001b[0;32m     27\u001b[0m     return np.sum(\n\u001b[1;32m---> 28\u001b[1;33m         \u001b[0mnp\u001b[0m\u001b[1;33m.\u001b[0m\u001b[0msquare\u001b[0m\u001b[1;33m(\u001b[0m\u001b[0mx\u001b[0m \u001b[1;33m-\u001b[0m \u001b[0mv\u001b[0m\u001b[1;33m)\u001b[0m\u001b[1;33m\u001b[0m\u001b[1;33m\u001b[0m\u001b[0m\n\u001b[0m\u001b[0;32m     29\u001b[0m     )\n\u001b[0;32m     30\u001b[0m \u001b[1;33m\u001b[0m\u001b[0m\n",
      "\u001b[1;31mValueError\u001b[0m: operands could not be broadcast together with shapes (4,) (2,) "
     ]
    }
   ],
   "source": [
    "V_KMedias = trainKMedias(X, V, b, epsilon)\n",
    "testKMedias(V_KMedias, vName)"
   ]
  },
  {
   "cell_type": "code",
   "execution_count": null,
   "id": "future-creator",
   "metadata": {},
   "outputs": [],
   "source": [
    "def obtenerMedias(X, Y, vName):\n",
    "    medias = []\n",
    "    for name in vName:\n",
    "        pos = np.where(Y == name)\n",
    "        medias.append(np.mean(X[pos], axis=0))\n",
    "\n",
    "    return np.array(medias)\n"
   ]
  },
  {
   "cell_type": "code",
   "execution_count": null,
   "id": "systematic-roulette",
   "metadata": {},
   "outputs": [],
   "source": [
    "def covariante(X, media):\n",
    "    return X - media"
   ]
  },
  {
   "cell_type": "code",
   "execution_count": null,
   "id": "opponent-vector",
   "metadata": {},
   "outputs": [],
   "source": [
    "def obtenerCovariantes(X, Y, vName, medias):\n",
    "    res = []\n",
    "    for i in range(len(vName)):\n",
    "        posX = np.where(Y == vName[i])            # Conocer las posiciones\n",
    "        aux = covariante(X[posX], medias[i])      # Calcular covariantes\n",
    "        nDatos = posX[0].shape[0]                 # Numero de datos\n",
    "        \n",
    "        acumulado = np.zeros((aux.shape[1], aux.shape[1])) # Acumulado\n",
    "        \n",
    "        for j in range(aux.shape[0]):\n",
    "            value = np.array([aux[j]])                     # (i,) -> (i, 1)\n",
    "            acumulado += (1 / nDatos) * (value * value.T)  # (1/n) * (v*v.T)\n",
    "            \n",
    "        res.append(acumulado) # Guardamos en un array los acumulados\n",
    "        \n",
    "    return np.array(res)"
   ]
  },
  {
   "cell_type": "code",
   "execution_count": null,
   "id": "chinese-authorization",
   "metadata": {},
   "outputs": [],
   "source": [
    "def bayes(X, Y, vName):\n",
    "    medias = obtenerMedias(X, Y, vName)\n",
    "    covariantes = obtenerCovariantes(X, Y, vName, medias)\n",
    "    \n",
    "bayes(X, Y, vName)"
   ]
  }
 ],
 "metadata": {
  "kernelspec": {
   "display_name": "Python 3",
   "language": "python",
   "name": "python3"
  },
  "language_info": {
   "codemirror_mode": {
    "name": "ipython",
    "version": 3
   },
   "file_extension": ".py",
   "mimetype": "text/x-python",
   "name": "python",
   "nbconvert_exporter": "python",
   "pygments_lexer": "ipython3",
   "version": "3.8.5"
  }
 },
 "nbformat": 4,
 "nbformat_minor": 5
}
