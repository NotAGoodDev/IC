{
 "cells": [
  {
   "cell_type": "code",
   "execution_count": 1,
   "id": "proud-choir",
   "metadata": {},
   "outputs": [],
   "source": [
    "from Kmedias import *"
   ]
  },
  {
   "cell_type": "code",
   "execution_count": 2,
   "id": "answering-strike",
   "metadata": {},
   "outputs": [],
   "source": [
    "df = pd.read_csv('Iris2Clases.txt', header=None)\n",
    "X = np.array(df.iloc[:, :-1])\n",
    "Y = np.array(df.iloc[:, -1])\n",
    "V = np.array([[4.5, 3.0, 4.0, 0.0], [6.8, 3.4, 4.6, 0.7]])\n",
    "vName = ['Iris-setosa', 'Iris-versicolor']\n",
    "\n",
    "# X = np.array([[1,1,1], [2,2,1]])\n",
    "# V = np.array([[3,1,2], [1,2,1], [4,5,4]])\n",
    "\n",
    "# X = np.array([\n",
    "#     [1, 1],\n",
    "#     [1, 3],\n",
    "#     [1, 5],\n",
    "#     [2, 2],\n",
    "#     [2, 3],\n",
    "#     [6, 3],\n",
    "#     [6, 4],\n",
    "#     [7, 1],\n",
    "#     [7, 3],\n",
    "#     [7, 5] \n",
    "# ])\n",
    "\n",
    "# V = np.array([[6.7, 3.43], [2.39, 2.94]])\n",
    "\n",
    "b = 2\n",
    "epsilon = 0.02"
   ]
  },
  {
   "cell_type": "code",
   "execution_count": 3,
   "id": "framed-onion",
   "metadata": {},
   "outputs": [
    {
     "name": "stdout",
     "output_type": "stream",
     "text": [
      "\n"
     ]
    },
    {
     "ename": "NameError",
     "evalue": "name 'V' is not defined",
     "output_type": "error",
     "traceback": [
      "\u001b[1;31m---------------------------------------------------------------------------\u001b[0m",
      "\u001b[1;31mNameError\u001b[0m                                 Traceback (most recent call last)",
      "\u001b[1;32m<ipython-input-3-a4ec6e070a36>\u001b[0m in \u001b[0;36m<module>\u001b[1;34m\u001b[0m\n\u001b[1;32m----> 1\u001b[1;33m \u001b[0mV_KMedias\u001b[0m \u001b[1;33m=\u001b[0m \u001b[0mtrainKMedias\u001b[0m\u001b[1;33m(\u001b[0m\u001b[0mX\u001b[0m\u001b[1;33m,\u001b[0m \u001b[0mV\u001b[0m\u001b[1;33m,\u001b[0m \u001b[0mb\u001b[0m\u001b[1;33m,\u001b[0m \u001b[0mepsilon\u001b[0m\u001b[1;33m)\u001b[0m\u001b[1;33m\u001b[0m\u001b[1;33m\u001b[0m\u001b[0m\n\u001b[0m\u001b[0;32m      2\u001b[0m \u001b[0mtestKMedias\u001b[0m\u001b[1;33m(\u001b[0m\u001b[0mV_KMedias\u001b[0m\u001b[1;33m,\u001b[0m \u001b[0mvName\u001b[0m\u001b[1;33m)\u001b[0m\u001b[1;33m\u001b[0m\u001b[1;33m\u001b[0m\u001b[0m\n",
      "\u001b[1;32mE:\\MegaSYNC\\Apuntes\\4º\\Segundo Cuatrimestre\\IC - Ingeniería del Conocimiento\\Prácticas\\PRÁCTICA 3\\Kmedias.py\u001b[0m in \u001b[0;36mtrainKMedias\u001b[1;34m(X, V, b, epsilon)\u001b[0m\n\u001b[0;32m    111\u001b[0m         \u001b[0mP\u001b[0m \u001b[1;33m=\u001b[0m \u001b[0mcalcularP\u001b[0m\u001b[1;33m(\u001b[0m\u001b[0mX\u001b[0m\u001b[1;33m,\u001b[0m \u001b[0mV\u001b[0m\u001b[1;33m,\u001b[0m \u001b[0mb\u001b[0m\u001b[1;33m)\u001b[0m\u001b[1;33m\u001b[0m\u001b[1;33m\u001b[0m\u001b[0m\n\u001b[0;32m    112\u001b[0m         \u001b[0mvNuevo\u001b[0m \u001b[1;33m=\u001b[0m \u001b[0mrecalcularCentros\u001b[0m\u001b[1;33m(\u001b[0m\u001b[0mX\u001b[0m\u001b[1;33m,\u001b[0m \u001b[0mP\u001b[0m\u001b[1;33m)\u001b[0m\u001b[1;33m\u001b[0m\u001b[1;33m\u001b[0m\u001b[0m\n\u001b[1;32m--> 113\u001b[1;33m         \u001b[1;32mif\u001b[0m \u001b[0mseguirActualizando\u001b[0m\u001b[1;33m(\u001b[0m\u001b[0mV\u001b[0m\u001b[1;33m,\u001b[0m \u001b[0mvNuevo\u001b[0m\u001b[1;33m,\u001b[0m \u001b[0mepsilon\u001b[0m\u001b[1;33m)\u001b[0m\u001b[1;33m:\u001b[0m\u001b[1;33m\u001b[0m\u001b[1;33m\u001b[0m\u001b[0m\n\u001b[0m\u001b[0;32m    114\u001b[0m             print(\"En la iteración {} los centroides son:\\n{}\"\n\u001b[0;32m    115\u001b[0m                  .format(i, V))\n",
      "\u001b[1;32mE:\\MegaSYNC\\Apuntes\\4º\\Segundo Cuatrimestre\\IC - Ingeniería del Conocimiento\\Prácticas\\PRÁCTICA 3\\Kmedias.py\u001b[0m in \u001b[0;36mseguirActualizando\u001b[1;34m(vAntiguo, vNuevo, epsilon)\u001b[0m\n\u001b[0;32m     78\u001b[0m \u001b[1;32mdef\u001b[0m \u001b[0mseguirActualizando\u001b[0m\u001b[1;33m(\u001b[0m\u001b[0mvAntiguo\u001b[0m\u001b[1;33m,\u001b[0m \u001b[0mvNuevo\u001b[0m\u001b[1;33m,\u001b[0m \u001b[0mepsilon\u001b[0m\u001b[1;33m)\u001b[0m\u001b[1;33m:\u001b[0m\u001b[1;33m\u001b[0m\u001b[1;33m\u001b[0m\u001b[0m\n\u001b[0;32m     79\u001b[0m     \u001b[0mactualizar\u001b[0m \u001b[1;33m=\u001b[0m \u001b[1;32mFalse\u001b[0m\u001b[1;33m\u001b[0m\u001b[1;33m\u001b[0m\u001b[0m\n\u001b[1;32m---> 80\u001b[1;33m     \u001b[1;32mfor\u001b[0m \u001b[0mi\u001b[0m \u001b[1;32min\u001b[0m \u001b[0mrange\u001b[0m\u001b[1;33m(\u001b[0m\u001b[0mV\u001b[0m\u001b[1;33m.\u001b[0m\u001b[0mshape\u001b[0m\u001b[1;33m[\u001b[0m\u001b[1;36m0\u001b[0m\u001b[1;33m]\u001b[0m\u001b[1;33m)\u001b[0m\u001b[1;33m:\u001b[0m\u001b[1;33m\u001b[0m\u001b[1;33m\u001b[0m\u001b[0m\n\u001b[0m\u001b[0;32m     81\u001b[0m         \u001b[1;32mif\u001b[0m\u001b[1;33m(\u001b[0m\u001b[1;32mnot\u001b[0m \u001b[0mcumpleEpsilon\u001b[0m\u001b[1;33m(\u001b[0m\u001b[0mvAntiguo\u001b[0m\u001b[1;33m,\u001b[0m \u001b[0mvNuevo\u001b[0m\u001b[1;33m,\u001b[0m \u001b[0mepsilon\u001b[0m\u001b[1;33m)\u001b[0m\u001b[1;33m)\u001b[0m\u001b[1;33m:\u001b[0m\u001b[1;33m\u001b[0m\u001b[1;33m\u001b[0m\u001b[0m\n\u001b[0;32m     82\u001b[0m             \u001b[0mactualizar\u001b[0m \u001b[1;33m=\u001b[0m \u001b[1;32mTrue\u001b[0m\u001b[1;33m\u001b[0m\u001b[1;33m\u001b[0m\u001b[0m\n",
      "\u001b[1;31mNameError\u001b[0m: name 'V' is not defined"
     ]
    }
   ],
   "source": [
    "V_KMedias = trainKMedias(X, V, b, epsilon)\n",
    "testKMedias(V_KMedias, vName)"
   ]
  },
  {
   "cell_type": "code",
   "execution_count": null,
   "id": "future-creator",
   "metadata": {},
   "outputs": [],
   "source": []
  }
 ],
 "metadata": {
  "kernelspec": {
   "display_name": "Python 3",
   "language": "python",
   "name": "python3"
  },
  "language_info": {
   "codemirror_mode": {
    "name": "ipython",
    "version": 3
   },
   "file_extension": ".py",
   "mimetype": "text/x-python",
   "name": "python",
   "nbconvert_exporter": "python",
   "pygments_lexer": "ipython3",
   "version": "3.8.5"
  }
 },
 "nbformat": 4,
 "nbformat_minor": 5
}
