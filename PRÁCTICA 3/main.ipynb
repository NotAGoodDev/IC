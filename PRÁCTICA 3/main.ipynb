{
 "cells": [
  {
   "cell_type": "code",
   "execution_count": 1,
   "id": "proud-choir",
   "metadata": {
    "scrolled": true
   },
   "outputs": [],
   "source": [
    "from Kmedias import *\n",
    "from Bayes import *"
   ]
  },
  {
   "cell_type": "code",
   "execution_count": 2,
   "id": "answering-strike",
   "metadata": {},
   "outputs": [],
   "source": [
    "df = pd.read_csv('Iris2Clases.txt', header=None)\n",
    "X = np.array(df.iloc[:, :-1])\n",
    "Y = np.array(df.iloc[:, -1])\n",
    "\n",
    "V = np.array([[4.5, 3.0, 4.0, 0.0], [6.8, 3.4, 4.6, 0.7]])\n",
    "vName = ['Iris-setosa', 'Iris-versicolor']\n",
    "\n",
    "b = 2\n",
    "epsilon = 0.02"
   ]
  },
  {
   "cell_type": "code",
   "execution_count": 3,
   "id": "framed-onion",
   "metadata": {},
   "outputs": [
    {
     "name": "stdout",
     "output_type": "stream",
     "text": [
      "\n",
      "########## ENTRENAMIENTO DE K-MEDIAS ##########\n",
      "\n",
      "\n",
      "En la iteración 0 los centroides son:\n",
      "[[4.5 3.  4.  0. ]\n",
      " [6.8 3.4 4.6 0.7]]\n",
      "\n",
      "En la iteración 1 los centroides son:\n",
      "[[5.10395866 3.16786413 2.09623961 0.49170174]\n",
      " [5.95903834 3.00008175 3.83607486 1.15529124]]\n",
      "\n",
      "En la iteración 2 los centroides son:\n",
      "[[5.00995989 3.3798558  1.53281933 0.27036345]\n",
      " [5.96277094 2.8050755  4.26341252 1.32311517]]\n",
      "\n",
      "Hemos terminado en la iteración 3, con los centroides:\n",
      "[[5.00442052 3.40156079 1.48823286 0.25325648]\n",
      " [5.97356112 2.79282529 4.30323088 1.33817883]]\n",
      "\n",
      "########## TEST DE K-MEDIAS ##########\n",
      "El archivo TestIris01.txt pertenece al centroide situado en\n",
      "[5.00442052 3.40156079 1.48823286 0.25325648] -> Iris-setosa\n",
      "\n",
      "El archivo TestIris02.txt pertenece al centroide situado en\n",
      "[5.97356112 2.79282529 4.30323088 1.33817883] -> Iris-versicolor\n",
      "\n",
      "El archivo TestIris03.txt pertenece al centroide situado en\n",
      "[5.00442052 3.40156079 1.48823286 0.25325648] -> Iris-setosa\n",
      "\n"
     ]
    }
   ],
   "source": [
    "V_KMedias = trainKMedias(X, V, b, epsilon)\n",
    "testKMedias(V_KMedias, vName)"
   ]
  },
  {
   "cell_type": "code",
   "execution_count": 4,
   "id": "future-creator",
   "metadata": {},
   "outputs": [
    {
     "name": "stdout",
     "output_type": "stream",
     "text": [
      "\n",
      "########## ENTRENAMIENTO DE BAYES ##########\n",
      "\n",
      "Las covariantes obtenidas son: \n",
      "[[[0.121764 0.098292 0.015816 0.010336]\n",
      "  [0.098292 0.142276 0.011448 0.011208]\n",
      "  [0.015816 0.011448 0.029504 0.005584]\n",
      "  [0.010336 0.011208 0.005584 0.011264]]\n",
      "\n",
      " [[0.261104 0.08348  0.17924  0.054664]\n",
      "  [0.08348  0.0965   0.081    0.04038 ]\n",
      "  [0.17924  0.081    0.2164   0.07164 ]\n",
      "  [0.054664 0.04038  0.07164  0.038324]]]\n",
      "\n",
      "########## TEST DE BAYES ##########\n",
      "El archivo TestIris01.txt pertenece a la clase \n",
      "Iris-setosa\n",
      "\n",
      "El archivo TestIris02.txt pertenece a la clase \n",
      "Iris-versicolor\n",
      "\n",
      "El archivo TestIris03.txt pertenece a la clase \n",
      "Iris-setosa\n",
      "\n"
     ]
    }
   ],
   "source": [
    "medias = bayes(X, Y, vName)\n",
    "testBayes(medias, vName)"
   ]
  },
  {
   "cell_type": "code",
   "execution_count": null,
   "id": "comprehensive-heritage",
   "metadata": {},
   "outputs": [],
   "source": []
  },
  {
   "cell_type": "code",
   "execution_count": null,
   "id": "verified-wages",
   "metadata": {},
   "outputs": [],
   "source": []
  }
 ],
 "metadata": {
  "kernelspec": {
   "display_name": "Python 3",
   "language": "python",
   "name": "python3"
  },
  "language_info": {
   "codemirror_mode": {
    "name": "ipython",
    "version": 3
   },
   "file_extension": ".py",
   "mimetype": "text/x-python",
   "name": "python",
   "nbconvert_exporter": "python",
   "pygments_lexer": "ipython3",
   "version": "3.8.5"
  }
 },
 "nbformat": 4,
 "nbformat_minor": 5
}
