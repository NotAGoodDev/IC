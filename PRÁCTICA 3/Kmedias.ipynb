{
 "cells": [
  {
   "cell_type": "markdown",
   "id": "instructional-membrane",
   "metadata": {},
   "source": [
    "# K-MEDIAS-BORROSO"
   ]
  },
  {
   "cell_type": "code",
   "execution_count": 1,
   "id": "young-survivor",
   "metadata": {},
   "outputs": [],
   "source": [
    "import pandas as pd\n",
    "import numpy as np\n",
    "import matplotlib.pyplot as plt\n",
    "import os"
   ]
  },
  {
   "cell_type": "code",
   "execution_count": null,
   "id": "infectious-drawing",
   "metadata": {},
   "outputs": [],
   "source": []
  },
  {
   "cell_type": "code",
   "execution_count": 2,
   "id": "together-beach",
   "metadata": {},
   "outputs": [],
   "source": [
    "def formula(d, b):\n",
    "    \"\"\"\n",
    "    Formula necesaria para el cálculo de K-medias\n",
    "    Devuelve el resultado de la misma\n",
    "    \"\"\"\n",
    "    return np.power(\n",
    "        1 / d,\n",
    "        (1 / (b - 1))\n",
    "    )"
   ]
  },
  {
   "cell_type": "code",
   "execution_count": 3,
   "id": "concerned-extraction",
   "metadata": {},
   "outputs": [],
   "source": [
    "def dist(x, v):\n",
    "    \"\"\"\n",
    "    Calcula la distancia de un punto X y respecto a su centroide V\n",
    "    Devuelve el resultado de la misma\n",
    "    \"\"\"\n",
    "    return np.sum(\n",
    "        np.square(x - v)\n",
    "    )"
   ]
  },
  {
   "cell_type": "code",
   "execution_count": 4,
   "id": "musical-going",
   "metadata": {},
   "outputs": [],
   "source": [
    "def calcularDivisor(Xj, V, b = 2):\n",
    "    \"\"\"\n",
    "    Calcula el divisor sumando todos valores obtenidos de la función 'formula'\n",
    "    Devuelve el sumatorio\n",
    "    \"\"\"\n",
    "    divisor = 0\n",
    "    for k in V:\n",
    "        res = formula(\n",
    "            dist(Xj, k),\n",
    "            b\n",
    "        )\n",
    "        divisor += res\n",
    "        \n",
    "    return divisor"
   ]
  },
  {
   "cell_type": "code",
   "execution_count": 5,
   "id": "million-neighbor",
   "metadata": {},
   "outputs": [],
   "source": [
    "def calcularP(X, V, b = 2):\n",
    "    \"\"\"\n",
    "    Calcula la variable P a partir de un conjunto de datos X, los centroides V, y un valor B\n",
    "    dado por el enunciado.\n",
    "    \"\"\"\n",
    "    \n",
    "    P = np.zeros((V.shape[0], X.shape[0]))\n",
    "    for j in range(X.shape[0]):\n",
    "        for i in range(V.shape[0]):\n",
    "            dividendo = formula(dist(V[i], X[j]), b)\n",
    "            divisor = calcularDivisor(X[j], V)\n",
    "\n",
    "            P[i, j] = dividendo / divisor\n",
    "            \n",
    "    return P"
   ]
  },
  {
   "cell_type": "code",
   "execution_count": 29,
   "id": "antique-client",
   "metadata": {},
   "outputs": [],
   "source": [
    "def recalcularCentros(X, U):\n",
    "    \"\"\"\n",
    "    Calcula otra vez los centros a partir del array X y el array U.\n",
    "    Devuelve el cálculo\n",
    "    \"\"\"\n",
    "    print()\n",
    "    fin = []\n",
    "    for i in range(U.shape[0]):\n",
    "        aux = []\n",
    "        for j in range(U.shape[1]):\n",
    "            aux.append(np.square(U[i, j]) * X[j])\n",
    "\n",
    "        dividendo = np.sum(np.array(aux), axis=0)\n",
    "        divisor = np.sum(np.square(U[i, :]))\n",
    "        fin.append(dividendo / divisor)\n",
    "        \n",
    "    return np.array(fin)"
   ]
  },
  {
   "cell_type": "code",
   "execution_count": 7,
   "id": "radical-clerk",
   "metadata": {},
   "outputs": [],
   "source": [
    "def cumpleEpsilon(vAntiguo, vNuevo, epsilon):\n",
    "    \"\"\"\n",
    "    Función que calcula la distancia de un centroide y comprueba\n",
    "    si es mayor o menor que epsilon (máximo error permitido)\n",
    "    Devuelve un booleano\n",
    "    \"\"\"\n",
    "    return np.sqrt(np.sum(np.square(vNuevo-vAntiguo))) < epsilon"
   ]
  },
  {
   "cell_type": "code",
   "execution_count": null,
   "id": "operating-operator",
   "metadata": {},
   "outputs": [],
   "source": [
    "def seguirActualizando(vAntiguo, vNuevo, epsilon):\n",
    "    \"\"\"\n",
    "    Función que comprueba si hay algún valor superior a epsilon\n",
    "    en alguna de las componentes\n",
    "    Devuelve un booleano\n",
    "    \"\"\"\n",
    "    actualizar = False\n",
    "    for i in range(vAntiguo.shape[0]):\n",
    "        if(not cumpleEpsilon(vAntiguo, vNuevo, epsilon)):\n",
    "            actualizar = True\n",
    "            break\n",
    "            \n",
    "    return actualizar"
   ]
  },
  {
   "cell_type": "code",
   "execution_count": 8,
   "id": "indirect-lesbian",
   "metadata": {},
   "outputs": [],
   "source": [
    "def dibujarGrafica(X, V):\n",
    "    \"\"\"\n",
    "    Dibuja una gráfica con los centroides y los valores de X\n",
    "    Solo cuando los centroides V tienen dos dimensiones\n",
    "    \"\"\"\n",
    "    if(V.shape[1] == 2):\n",
    "        colores = ['b', 'g', 'r', 'c', 'm', 'y', 'k']\n",
    "        ax = plt.gca()    \n",
    "\n",
    "        for i in range(V.shape[0]):\n",
    "\n",
    "            ax.add_patch(plt.Circle((V[i, 0], V[i, 1]), 2, color=colores[i], alpha=0.4))\n",
    "            ax.plot(V[i, 0], V[i, 1], 'o', c = 'r')\n",
    "\n",
    "        ax.plot(X[:, 0], X[:, 1], 'o', c = 'b')\n",
    "\n",
    "        plt.show()"
   ]
  },
  {
   "cell_type": "code",
   "execution_count": 18,
   "id": "practical-pharmacy",
   "metadata": {},
   "outputs": [],
   "source": [
    "def kMedias(X, V, b, epsilon):\n",
    "    \"\"\"\n",
    "    Gestiona el algoritmo de KMedias, devuelve los centroides entrenados a partir de\n",
    "    un conjunto de datos X, los centroides iniciales, un valor b y un error mínimo epsilon\n",
    "    \"\"\"\n",
    "    print(\"\\n########## ENTRENAMIENTO DE K-MEDIAS ##########\\n\")\n",
    "    i = 0\n",
    "    while True:\n",
    "        P = calcularP(X, V, b)\n",
    "        vNuevo = recalcularCentros(X, P)\n",
    "        if seguirActualizando(V, vNuevo, epsilon):\n",
    "            print(\"En la iteración {} los centroides son:\\n{}\"\n",
    "                 .format(i, V))\n",
    "            dibujarGrafica(X, V)\n",
    "            V = vNuevo\n",
    "        else:\n",
    "            print(\"Hemos terminado en la iteración {}, con los centroides:\\n{}\\n\"\n",
    "                 .format(i, V))\n",
    "            dibujarGrafica(X, V)\n",
    "\n",
    "            break\n",
    "\n",
    "        i += 1\n",
    "        \n",
    "    return V"
   ]
  },
  {
   "cell_type": "code",
   "execution_count": 24,
   "id": "early-colon",
   "metadata": {},
   "outputs": [],
   "source": [
    "def testKMedias(V, vName, directorio='test'):\n",
    "    \"\"\"\n",
    "    Función que calcula la distancia de todas las pruebas ubicadas en la\n",
    "    carpeta 'directorio' a partir del vector de centroides, su etiqueta, y\n",
    "    el nombre de la carpeta.\n",
    "    No devuelve nada, muestra por pantalla a que clase pertenece dicha\n",
    "    prueba\n",
    "    \"\"\"\n",
    "    print(\"########## TEST DE K-MEDIAS ##########\")\n",
    "    for file in os.listdir(directorio):\n",
    "        df = pd.read_csv(directorio + '/' + file, header=None)\n",
    "        pruebaX = np.array(df.iloc[:, :-1])\n",
    "        pruebaY = np.array(df.iloc[:, -1])\n",
    "        P = calcularP(pruebaX, V)\n",
    "        posMax = P.argmax()\n",
    "\n",
    "        print(\"El archivo {} pertenece al centroide situado en\\n{} -> {}\\n\"\n",
    "             .format(file, V[posMax], vName[posMax]))\n"
   ]
  },
  {
   "cell_type": "code",
   "execution_count": 28,
   "id": "superb-support",
   "metadata": {},
   "outputs": [
    {
     "name": "stdout",
     "output_type": "stream",
     "text": [
      "\n",
      "########## ENTRENAMIENTO DE K-MEDIAS ##########\n",
      "\n",
      "\n",
      "En la iteración 0 los centroides son:\n",
      "[[6.7  3.43]\n",
      " [2.39 2.94]]\n"
     ]
    },
    {
     "data": {
      "image/png": "[encoded data removed]",
      "text/plain": [
       "<Figure size 432x288 with 1 Axes>"
      ]
     },
     "metadata": {
      "needs_background": "light"
     },
     "output_type": "display_data"
    },
    {
     "name": "stdout",
     "output_type": "stream",
     "text": [
      "\n",
      "En la iteración 1 los centroides son:\n",
      "[[6.52000497 3.29226962]\n",
      " [1.50997223 2.75818155]]\n"
     ]
    },
    {
     "data": {
      "image/png": "[encoded data removed]",
      "text/plain": [
       "<Figure size 432x288 with 1 Axes>"
      ]
     },
     "metadata": {
      "needs_background": "light"
     },
     "output_type": "display_data"
    },
    {
     "name": "stdout",
     "output_type": "stream",
     "text": [
      "\n",
      "Hemos terminado en la iteración 2, con los centroides:\n",
      "[[6.54008929 3.25987847]\n",
      " [1.46108287 2.7468911 ]]\n",
      "\n"
     ]
    },
    {
     "data": {
      "image/png": "[encoded data removed]",
      "text/plain": [
       "<Figure size 432x288 with 1 Axes>"
      ]
     },
     "metadata": {
      "needs_background": "light"
     },
     "output_type": "display_data"
    },
    {
     "name": "stdout",
     "output_type": "stream",
     "text": [
      "########## TEST DE K-MEDIAS ##########\n",
      "El archivo prueba_clase1.txt pertenece al centroide situado en\n",
      "[6.54008929 3.25987847] -> C1\n",
      "\n",
      "El archivo prueba_clase2.txt pertenece al centroide situado en\n",
      "[1.46108287 2.7468911 ] -> C2\n",
      "\n"
     ]
    }
   ],
   "source": [
    "##### PRUEBAS #####\n",
    "\n",
    "X = np.array([\n",
    "    [1, 1],\n",
    "    [1, 3],\n",
    "    [1, 5],\n",
    "    [2, 2],\n",
    "    [2, 3],\n",
    "    [6, 3],\n",
    "    [6, 4],\n",
    "    [7, 1],\n",
    "    [7, 3],\n",
    "    [7, 5] \n",
    "])\n",
    "\n",
    "V = np.array([[6.7, 3.43], [2.39, 2.94]])\n",
    "b = 2\n",
    "epsilon = .02\n",
    "vName = ['C1', 'C2']\n",
    "\n",
    "\n",
    "##### PRUEBAS #####\n",
    "\n",
    "vNuevo = kMedias(X, V, b, epsilon)\n",
    "testKMedias(vNuevo, vName, 'test_kmedias')"
   ]
  },
  {
   "cell_type": "code",
   "execution_count": null,
   "id": "checked-external",
   "metadata": {},
   "outputs": [],
   "source": []
  },
  {
   "cell_type": "code",
   "execution_count": null,
   "id": "western-fluid",
   "metadata": {},
   "outputs": [],
   "source": []
  }
 ],
 "metadata": {
  "kernelspec": {
   "display_name": "Python 3",
   "language": "python",
   "name": "python3"
  },
  "language_info": {
   "codemirror_mode": {
    "name": "ipython",
    "version": 3
   },
   "file_extension": ".py",
   "mimetype": "text/x-python",
   "name": "python",
   "nbconvert_exporter": "python",
   "pygments_lexer": "ipython3",
   "version": "3.8.5"
  }
 },
 "nbformat": 4,
 "nbformat_minor": 5
}
