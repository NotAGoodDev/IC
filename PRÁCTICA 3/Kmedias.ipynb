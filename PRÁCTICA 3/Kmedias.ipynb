{
 "cells": [
  {
   "cell_type": "markdown",
   "id": "instructional-membrane",
   "metadata": {},
   "source": [
    "# K-MEDIAS-BORROSO"
   ]
  },
  {
   "cell_type": "code",
   "execution_count": 1,
   "id": "young-survivor",
   "metadata": {},
   "outputs": [],
   "source": [
    "import pandas as pd\n",
    "import numpy as np\n",
    "import matplotlib.pyplot as plt\n",
    "import os"
   ]
  },
  {
   "cell_type": "code",
   "execution_count": 2,
   "id": "infectious-drawing",
   "metadata": {},
   "outputs": [],
   "source": [
    "##### PRUEBAS #####\n",
    "\n",
    "# X = np.array([[1,1,1], [2,2,1]])\n",
    "# V = np.array([[3,1,2], [1,2,1], [4,5,4]])\n",
    "\n",
    "# X = np.array([\n",
    "#     [1, 1],\n",
    "#     [1, 3],\n",
    "#     [1, 5],\n",
    "#     [2, 2],\n",
    "#     [2, 3],\n",
    "#     [6, 3],\n",
    "#     [6, 4],\n",
    "#     [7, 1],\n",
    "#     [7, 3],\n",
    "#     [7, 5] \n",
    "# ])\n",
    "\n",
    "# V = np.array([[6.7, 3.43], [2.39, 2.94]])\n",
    "\n",
    "##### PRUEBAS #####"
   ]
  },
  {
   "cell_type": "code",
   "execution_count": 3,
   "id": "together-beach",
   "metadata": {},
   "outputs": [],
   "source": [
    "def formula(d, b):\n",
    "    return np.power(\n",
    "        1 / d,\n",
    "        (1 / (b - 1))\n",
    "    )"
   ]
  },
  {
   "cell_type": "code",
   "execution_count": 4,
   "id": "concerned-extraction",
   "metadata": {},
   "outputs": [],
   "source": [
    "def dist(x, v):\n",
    "    return np.sum(\n",
    "        np.square(x - v)\n",
    "    )"
   ]
  },
  {
   "cell_type": "code",
   "execution_count": 5,
   "id": "musical-going",
   "metadata": {},
   "outputs": [],
   "source": [
    "def calcularDivisor(Xj, V, b = 2):\n",
    "    divisor = 0\n",
    "    for k in V:\n",
    "        res = formula(\n",
    "            dist(Xj, k),\n",
    "            b\n",
    "        )\n",
    "        divisor += res\n",
    "        \n",
    "    return divisor"
   ]
  },
  {
   "cell_type": "code",
   "execution_count": 6,
   "id": "million-neighbor",
   "metadata": {},
   "outputs": [],
   "source": [
    "def calcularP(X, V, b = 2):\n",
    "    P = np.zeros((V.shape[0], X.shape[0]))\n",
    "    for j in range(X.shape[0]):\n",
    "        for i in range(V.shape[0]):\n",
    "            dividendo = formula(dist(V[i], X[j]), b)\n",
    "            divisor = calcularDivisor(X[j], V)\n",
    "\n",
    "            P[i, j] = dividendo / divisor\n",
    "            \n",
    "    return P"
   ]
  },
  {
   "cell_type": "code",
   "execution_count": 7,
   "id": "antique-client",
   "metadata": {},
   "outputs": [],
   "source": [
    "def recalcularCentros(X, U):\n",
    "    print()\n",
    "    fin = []\n",
    "    for i in range(U.shape[0]):\n",
    "        aux = []\n",
    "        for j in range(U.shape[1]):\n",
    "            aux.append(np.square(U[i, j]) * X[j])\n",
    "\n",
    "        dividendo = np.sum(np.array(aux), axis=0)\n",
    "        divisor = np.sum(np.square(U[i, :]))\n",
    "        fin.append(dividendo / divisor)\n",
    "        \n",
    "    return np.array(fin)"
   ]
  },
  {
   "cell_type": "code",
   "execution_count": 8,
   "id": "radical-clerk",
   "metadata": {},
   "outputs": [],
   "source": [
    "def cumpleEpsilon(vAntiguo, vNuevo, epsilon):\n",
    "    return np.sqrt(np.sum(np.square(vNuevo-vAntiguo))) < epsilon\n",
    "        \n",
    "def seguirActualizando(vAntiguo, vNuevo, epsilon):\n",
    "    actualizar = False\n",
    "    for i in range(vAntiguo.shape[0]):\n",
    "        if(not cumpleEpsilon(vAntiguo, vNuevo, epsilon)):\n",
    "            actualizar = True\n",
    "            break\n",
    "            \n",
    "    return actualizar"
   ]
  },
  {
   "cell_type": "code",
   "execution_count": 9,
   "id": "indirect-lesbian",
   "metadata": {},
   "outputs": [],
   "source": [
    "def dibujarGrafica(X, V):\n",
    "    \"\"\"\n",
    "    Solo se dibuja la gráfica cuando las V tiene dos dimensiones\n",
    "    \"\"\"\n",
    "    if(V.shape[1] == 2):\n",
    "        colores = ['b', 'g', 'r', 'c', 'm', 'y', 'k']\n",
    "        ax = plt.gca()    \n",
    "\n",
    "        for i in range(V.shape[0]):\n",
    "\n",
    "            ax.add_patch(plt.Circle((V[i, 0], V[i, 1]), 2, color=colores[i], alpha=0.4))\n",
    "            ax.plot(V[i, 0], V[i, 1], 'o', c = 'r')\n",
    "\n",
    "        ax.plot(X[:, 0], X[:, 1], 'o', c = 'b')\n",
    "\n",
    "        plt.show()"
   ]
  },
  {
   "cell_type": "code",
   "execution_count": 10,
   "id": "practical-pharmacy",
   "metadata": {},
   "outputs": [],
   "source": [
    "def trainKMedias(X, V, b, epsilon):\n",
    "    print(\"\\n########## ENTRENAMIENTO DE K-MEDIAS ##########\\n\")\n",
    "    i = 0\n",
    "    while True:\n",
    "        P = calcularP(X, V, b)\n",
    "        vNuevo = recalcularCentros(X, P)\n",
    "        if seguirActualizando(V, vNuevo, epsilon):\n",
    "            print(\"En la iteración {} los centroides son:\\n{}\"\n",
    "                 .format(i, V))\n",
    "            dibujarGrafica(X, V)\n",
    "            V = vNuevo\n",
    "        else:\n",
    "            print(\"Hemos terminado en la iteración {}, con los centroides:\\n{}\\n\"\n",
    "                 .format(i, V))\n",
    "            dibujarGrafica(X, V)\n",
    "\n",
    "            break\n",
    "\n",
    "        i += 1\n",
    "        \n",
    "    return V"
   ]
  },
  {
   "cell_type": "code",
   "execution_count": 11,
   "id": "early-colon",
   "metadata": {},
   "outputs": [],
   "source": [
    "def testKMedias(V, vName):\n",
    "    print(\"########## TEST DE K-MEDIAS ##########\")\n",
    "    for file in os.listdir('test'):\n",
    "        df = pd.read_csv('test/' + file, header=None)\n",
    "        pruebaX = np.array(df.iloc[:, :-1])\n",
    "        pruebaY = np.array(df.iloc[:, -1])\n",
    "        P = calcularP(pruebaX, V)\n",
    "        posMax = P.argmax()\n",
    "\n",
    "        print(\"El archivo {} pertenece al centroide situado en\\n{} -> {}\\n\"\n",
    "             .format(file, V[posMax], vName[posMax]))\n"
   ]
  },
  {
   "cell_type": "code",
   "execution_count": null,
   "id": "superb-support",
   "metadata": {},
   "outputs": [],
   "source": []
  }
 ],
 "metadata": {
  "kernelspec": {
   "display_name": "Python 3",
   "language": "python",
   "name": "python3"
  },
  "language_info": {
   "codemirror_mode": {
    "name": "ipython",
    "version": 3
   },
   "file_extension": ".py",
   "mimetype": "text/x-python",
   "name": "python",
   "nbconvert_exporter": "python",
   "pygments_lexer": "ipython3",
   "version": "3.8.5"
  }
 },
 "nbformat": 4,
 "nbformat_minor": 5
}
