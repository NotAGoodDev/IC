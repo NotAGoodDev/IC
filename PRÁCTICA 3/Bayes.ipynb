{
 "cells": [
  {
   "cell_type": "code",
   "execution_count": 1,
   "id": "round-organizer",
   "metadata": {},
   "outputs": [],
   "source": [
    "import pandas as pd\n",
    "import numpy as np\n",
    "import os"
   ]
  },
  {
   "cell_type": "code",
   "execution_count": 2,
   "id": "fatal-button",
   "metadata": {},
   "outputs": [],
   "source": [
    "##### PRUEBAS #####\n",
    "\n",
    "# X = np.array([\n",
    "#     [3, 5],\n",
    "#     [5, 5],\n",
    "#     [4, 5],\n",
    "#     [3, 1],\n",
    "#     [1, 3],\n",
    "#     [2, 2],\n",
    "#     [1, 1],\n",
    "#     [2, 3],\n",
    "#     [0, 2],\n",
    "# ])\n",
    "\n",
    "# Y = np.array([\n",
    "#     'C1',\n",
    "#     'C1',\n",
    "#     'C1',\n",
    "#     'C2',\n",
    "#     'C2',\n",
    "#     'C2',\n",
    "#     'C3',\n",
    "#     'C3',\n",
    "#     'C3',\n",
    "# ])\n",
    "\n",
    "# vName = ['C1', 'C2', 'C3']\n",
    "\n",
    "##### PRUEBAS #####"
   ]
  },
  {
   "cell_type": "code",
   "execution_count": 3,
   "id": "different-indiana",
   "metadata": {},
   "outputs": [],
   "source": [
    "def obtenerMedias(X, Y, vName):\n",
    "    medias = []\n",
    "    for name in vName:\n",
    "        pos = np.where(Y == name)\n",
    "        medias.append(np.mean(X[pos], axis=0))\n",
    "\n",
    "    return np.array(medias)\n"
   ]
  },
  {
   "cell_type": "code",
   "execution_count": 4,
   "id": "designing-migration",
   "metadata": {},
   "outputs": [],
   "source": [
    "def covariante(X, media):\n",
    "    return X - media"
   ]
  },
  {
   "cell_type": "code",
   "execution_count": 5,
   "id": "least-thousand",
   "metadata": {},
   "outputs": [],
   "source": [
    "def obtenerCovariantes(X, Y, vName, medias):\n",
    "    res = []\n",
    "    for i in range(len(vName)):\n",
    "        posX = np.where(Y == vName[i])            # Conocer las posiciones\n",
    "        aux = covariante(X[posX], medias[i])      # Calcular covariantes\n",
    "        nDatos = posX[0].shape[0]                 # Numero de datos\n",
    "        \n",
    "        acumulado = np.zeros((aux.shape[1], aux.shape[1])) # Acumulado\n",
    "        \n",
    "        for j in range(aux.shape[0]):\n",
    "            value = np.array([aux[j]])                     # (i,) -> (i, 1)\n",
    "            acumulado += (1 / nDatos) * (value * value.T)  # (1/n) * (v*v.T)\n",
    "            \n",
    "        res.append(acumulado) # Guardamos en un array los acumulados\n",
    "        \n",
    "    return np.array(res)"
   ]
  },
  {
   "cell_type": "code",
   "execution_count": 6,
   "id": "practical-customs",
   "metadata": {},
   "outputs": [],
   "source": [
    "def pertenenciaBayes(X, medias, vName):\n",
    "    \n",
    "    distancias = []\n",
    "    for i in range(medias.shape[0]):\n",
    "        aux = np.array([X - medias[i]])\n",
    "        I = np.identity(aux.shape[1])\n",
    "        distancias.append(np.sum(aux * I * aux.T))\n",
    "    \n",
    "    return np.argmin(np.array(distancias))"
   ]
  },
  {
   "cell_type": "code",
   "execution_count": 7,
   "id": "intimate-passenger",
   "metadata": {},
   "outputs": [],
   "source": [
    "def testBayes(medias, vName):\n",
    "    print(\"########## TEST DE BAYES ##########\")\n",
    "    for file in os.listdir('test'):\n",
    "        df = pd.read_csv('test/' + file, header=None)\n",
    "        pruebaX = np.array(df.iloc[:, :-1])\n",
    "        pruebaY = np.array(df.iloc[:, -1])\n",
    "        posMin = pertenenciaBayes(pruebaX, medias, vName)\n",
    "\n",
    "        print(\"El archivo {} pertenece a la clase \\n{}\\n\"\n",
    "             .format(file, vName[posMin]))\n"
   ]
  },
  {
   "cell_type": "code",
   "execution_count": 8,
   "id": "located-tractor",
   "metadata": {},
   "outputs": [],
   "source": [
    "def bayes(X, Y, vName):\n",
    "    medias = obtenerMedias(X, Y, vName)\n",
    "    covariantes = obtenerCovariantes(X, Y, vName, medias)\n",
    "    print(\"\\n########## ENTRENAMIENTO DE BAYES ##########\\n\")\n",
    "    print(\"Las covariantes obtenidas son: \\n{}\\n\"\n",
    "          .format(covariantes))\n",
    "    return medias"
   ]
  },
  {
   "cell_type": "code",
   "execution_count": null,
   "id": "threaded-dutch",
   "metadata": {},
   "outputs": [],
   "source": []
  },
  {
   "cell_type": "code",
   "execution_count": null,
   "id": "flexible-alcohol",
   "metadata": {},
   "outputs": [],
   "source": []
  }
 ],
 "metadata": {
  "kernelspec": {
   "display_name": "Python 3",
   "language": "python",
   "name": "python3"
  },
  "language_info": {
   "codemirror_mode": {
    "name": "ipython",
    "version": 3
   },
   "file_extension": ".py",
   "mimetype": "text/x-python",
   "name": "python",
   "nbconvert_exporter": "python",
   "pygments_lexer": "ipython3",
   "version": "3.8.5"
  }
 },
 "nbformat": 4,
 "nbformat_minor": 5
}
