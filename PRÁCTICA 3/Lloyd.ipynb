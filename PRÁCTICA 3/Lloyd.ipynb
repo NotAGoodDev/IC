{
 "cells": [
  {
   "cell_type": "code",
   "execution_count": 3,
   "id": "several-loading",
   "metadata": {},
   "outputs": [],
   "source": [
    "import numpy as np\n",
    "import pandas as pd\n",
    "import os"
   ]
  },
  {
   "cell_type": "code",
   "execution_count": 9,
   "id": "upper-roulette",
   "metadata": {},
   "outputs": [],
   "source": [
    "def calcularDistancias(x, V):\n",
    "    \"\"\"\n",
    "        Función que calcula la distancia de un punto X[i] respecto a los centroides\n",
    "        Devuelve la posición (en el array) del centroide más cercano\n",
    "    \"\"\"\n",
    "    posOpt = None\n",
    "    distOpt = np.inf\n",
    "\n",
    "    for j in range(V.shape[0]):\n",
    "        dist = np.sum(np.square(x - V[j]))\n",
    "        if (distOpt > dist):\n",
    "            distOpt = dist\n",
    "            posOpt = j\n",
    "\n",
    "    return posOpt"
   ]
  },
  {
   "cell_type": "code",
   "execution_count": 21,
   "id": "academic-omaha",
   "metadata": {},
   "outputs": [],
   "source": [
    "def distEuclidea(A, B):\n",
    "    \"\"\"\n",
    "    Calcula la distancia euclidea de un punto A respecto a B\n",
    "    \"\"\"\n",
    "    return np.sqrt(np.sum(np.square(A - B)))"
   ]
  },
  {
   "cell_type": "code",
   "execution_count": 22,
   "id": "novel-circuit",
   "metadata": {},
   "outputs": [],
   "source": [
    "def testLloyd(V, vName, directorio='test'):\n",
    "    \"\"\"\n",
    "    Función que calcula la distancia de todas las pruebas ubicadas en la carpeta test a partir del\n",
    "    vector de centroides, su etiqueta, y el nombre de la carpeta.\n",
    "    No devuelve nada, muestra por pantalla a que clase pertenece dicha prueba\n",
    "    \"\"\"\n",
    "    \n",
    "    print(\"########## TEST DE LLOYD ##########\")\n",
    "    for file in os.listdir(directorio):\n",
    "        df = pd.read_csv(directorio + '/' + file, header=None)\n",
    "        pruebaX = np.array(df.iloc[:, :-1])\n",
    "        pruebaY = np.array(df.iloc[:, -1])\n",
    "        distancias = np.sum(np.square(pruebaX - V), axis=1)\n",
    "        posMin = np.argmin(np.array(distancias))\n",
    "\n",
    "        print(\"El archivo {} pertenece a la clase \\n{}\\n\"\n",
    "             .format(file, vName[posMin]))\n",
    "        "
   ]
  },
  {
   "cell_type": "code",
   "execution_count": 23,
   "id": "innocent-divide",
   "metadata": {},
   "outputs": [],
   "source": [
    "def lloyd(X, V, gamma, kMax, epsilon):\n",
    "    \"\"\"\n",
    "    Gestiona el algoritmo de Lloyd, devuelve los centroides entrenados a partir de\n",
    "    un conjunto de datos X, los centroides iniciales, un valor gamma, unas iteraciones\n",
    "    máximas y un error mínimo epsilon\n",
    "    \"\"\"\n",
    "    print(\"\\n########## ENTRENAMIENTO DE LLOYD ##########\\n\")\n",
    "\n",
    "    for it in range(kMax):\n",
    "        vNuevo = V.copy()\n",
    "        \n",
    "        for i in range(X.shape[0]):\n",
    "            pos = calcularDistancias(X[i], V)\n",
    "            vNuevo[pos] = vNuevo[pos] + gamma * (X[i] - vNuevo[pos])\n",
    "\n",
    "        seguir = False\n",
    "        for i in range(V.shape[0]):\n",
    "            if(distEuclidea(V[i], vNuevo[i]) >= epsilon):\n",
    "                seguir = True\n",
    "\n",
    "        if(seguir):\n",
    "            print(\"ITERACIÓN {}.\\nAntiguo:\\n{}\\n\\nNuevo\\n{}\\n\"\n",
    "                 .format(it + 1, V, vNuevo))\n",
    "            V = vNuevo\n",
    "            \n",
    "        else:\n",
    "            break\n",
    "\n",
    "            \n",
    "        print(\"-\"*30)\n",
    "        \n",
    "    return V"
   ]
  },
  {
   "cell_type": "code",
   "execution_count": 27,
   "id": "parallel-clark",
   "metadata": {
    "scrolled": true
   },
   "outputs": [],
   "source": [
    "##### PRUEBAS #####\n",
    "\n",
    "X = np.array([\n",
    "    [1, 1],\n",
    "    [1, 3],\n",
    "    [1, 5],\n",
    "    [1, 2],\n",
    "    [2, 3],\n",
    "    [2, 3],\n",
    "    [6, 4],\n",
    "    [6, 1],\n",
    "    [7, 3],\n",
    "    [7, 5],\n",
    "])\n",
    "\n",
    "V = np.array([\n",
    "    [1.0, 4.0],    # C1\n",
    "    [7.0, 2.0],    # C2\n",
    "])\n",
    "\n",
    "vName = ['C1', 'C2']\n",
    "\n",
    "gamma = .1\n",
    "kMax = 10\n",
    "epsilon = .1\n",
    "\n",
    "##### PRUEBAS #####"
   ]
  },
  {
   "cell_type": "code",
   "execution_count": 29,
   "id": "amber-reduction",
   "metadata": {},
   "outputs": [
    {
     "name": "stdout",
     "output_type": "stream",
     "text": [
      "\n",
      "########## ENTRENAMIENTO DE LLOYD ##########\n",
      "\n",
      "ITERACIÓN 1.\n",
      "Antiguo:\n",
      "[[1. 4.]\n",
      " [7. 2.]]\n",
      "\n",
      "Nuevo\n",
      "[[1.19     3.478143]\n",
      " [6.8461   2.4548  ]]\n",
      "\n",
      "------------------------------\n",
      "ITERACIÓN 2.\n",
      "Antiguo:\n",
      "[[1.19     3.478143]\n",
      " [6.8461   2.4548  ]]\n",
      "\n",
      "Nuevo\n",
      "[[1.29097379 3.20080679]\n",
      " [6.74512621 2.75319428]]\n",
      "\n",
      "------------------------------\n",
      "ITERACIÓN 3.\n",
      "Antiguo:\n",
      "[[1.29097379 3.20080679]\n",
      " [6.74512621 2.75319428]]\n",
      "\n",
      "Nuevo\n",
      "[[1.3446354  3.05341896]\n",
      " [6.67887731 2.94897077]]\n",
      "\n",
      "------------------------------\n",
      "ITERACIÓN 4.\n",
      "Antiguo:\n",
      "[[1.3446354  3.05341896]\n",
      " [6.67887731 2.94897077]]\n",
      "\n",
      "Nuevo\n",
      "[[1.37315338 2.97509103]\n",
      " [6.6354114  3.07741972]]\n",
      "\n",
      "------------------------------\n",
      "########## TEST DE LLOYD ##########\n",
      "El archivo prueba_clase1.txt pertenece a la clase \n",
      "C1\n",
      "\n",
      "El archivo prueba_clase2.txt pertenece a la clase \n",
      "C2\n",
      "\n"
     ]
    }
   ],
   "source": [
    "vNuevo = lloyd(X, V, gamma, kMax, epsilon)\n",
    "testLloyd(vNuevo, vName, 'test_lloyd')"
   ]
  },
  {
   "cell_type": "code",
   "execution_count": null,
   "id": "cheap-shakespeare",
   "metadata": {},
   "outputs": [],
   "source": []
  }
 ],
 "metadata": {
  "kernelspec": {
   "display_name": "Python 3",
   "language": "python",
   "name": "python3"
  },
  "language_info": {
   "codemirror_mode": {
    "name": "ipython",
    "version": 3
   },
   "file_extension": ".py",
   "mimetype": "text/x-python",
   "name": "python",
   "nbconvert_exporter": "python",
   "pygments_lexer": "ipython3",
   "version": "3.8.5"
  }
 },
 "nbformat": 4,
 "nbformat_minor": 5
}
